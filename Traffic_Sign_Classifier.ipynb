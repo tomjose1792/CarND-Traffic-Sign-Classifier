{
 "cells": [
  {
   "cell_type": "markdown",
   "metadata": {},
   "source": [
    "# Self-Driving Car Engineer Nanodegree\n",
    "\n",
    "## Deep Learning\n",
    "\n",
    "## Project: Build a Traffic Sign Recognition Classifier\n",
    "\n",
    "In this notebook, a template is provided for you to implement your functionality in stages, which is required to successfully complete this project. If additional code is required that cannot be included in the notebook, be sure that the Python code is successfully imported and included in your submission if necessary. "
   ]
  },
  {
   "cell_type": "markdown",
   "metadata": {},
   "source": [
    "---\n",
    "## Step 0: Load The Data"
   ]
  },
  {
   "cell_type": "code",
   "execution_count": 1,
   "metadata": {},
   "outputs": [],
   "source": [
    "# Load pickled data\n",
    "import pickle\n",
    "import numpy as np\n",
    "import cv2\n",
    "\n",
    "# Based on the location of the saved training, validation and testing data\n",
    "\n",
    "training_file = \"data/train.p\"\n",
    "validation_file = \"data/valid.p\"\n",
    "testing_file = \"data/test.p\"\n",
    "\n",
    "with open(training_file, mode='rb') as f:\n",
    "    train = pickle.load(f)\n",
    "with open(validation_file, mode='rb') as f:\n",
    "    valid = pickle.load(f)\n",
    "with open(testing_file, mode='rb') as f:\n",
    "    test = pickle.load(f)\n",
    "    \n",
    "X_train, y_train_nh = train['features'], train['labels']\n",
    "X_valid, y_valid_nh = valid['features'], valid['labels']\n",
    "X_test, y_test_nh = test['features'], test['labels']"
   ]
  },
  {
   "cell_type": "code",
   "execution_count": 2,
   "metadata": {},
   "outputs": [
    {
     "data": {
      "text/plain": [
       "<matplotlib.image.AxesImage at 0x1254b1908>"
      ]
     },
     "execution_count": 2,
     "metadata": {},
     "output_type": "execute_result"
    },
    {
     "data": {
      "image/png": "[encoded data removed]",
      "text/plain": [
       "<Figure size 432x288 with 1 Axes>"
      ]
     },
     "metadata": {},
     "output_type": "display_data"
    },
    {
     "data": {
      "image/png": "[encoded data removed]",
      "text/plain": [
       "<Figure size 432x288 with 1 Axes>"
      ]
     },
     "metadata": {},
     "output_type": "display_data"
    }
   ],
   "source": [
    "import matplotlib.pyplot as plt\n",
    "\n",
    "# Sample Visualization shown here.\n",
    "\n",
    "%matplotlib inline\n",
    "plt.figure()\n",
    "plt.imshow(X_train[2000])\n",
    "plt.figure()\n",
    "plt.imshow(X_train[100])"
   ]
  },
  {
   "cell_type": "markdown",
   "metadata": {},
   "source": [
    "### ---\n",
    "\n",
    "## Step 1: Dataset Summary & Exploration\n",
    "\n",
    "The pickled data is a dictionary with 4 key/value pairs:\n",
    "\n",
    "- `'features'` is a 4D array containing raw pixel data of the traffic sign images, (num examples, width, height, channels).\n",
    "- `'labels'` is a 1D array containing the label/class id of the traffic sign. The file `signnames.csv` contains id -> name mappings for each id.\n",
    "- `'sizes'` is a list containing tuples, (width, height) representing the original width and height the image.\n",
    "- `'coords'` is a list containing tuples, (x1, y1, x2, y2) representing coordinates of a bounding box around the sign in the image. **THESE COORDINATES ASSUME THE ORIGINAL IMAGE. THE PICKLED DATA CONTAINS RESIZED VERSIONS (32 by 32) OF THESE IMAGES**\n",
    "\n",
    "Complete the basic data summary below. Use python, numpy and/or pandas methods to calculate the data summary rather than hard coding the results. For example, the [pandas shape method](http://pandas.pydata.org/pandas-docs/stable/generated/pandas.DataFrame.shape.html) might be useful for calculating some of the summary results. "
   ]
  },
  {
   "cell_type": "markdown",
   "metadata": {},
   "source": [
    "### A Basic Summary of the Data Set"
   ]
  },
  {
   "cell_type": "code",
   "execution_count": 3,
   "metadata": {},
   "outputs": [
    {
     "name": "stdout",
     "output_type": "stream",
     "text": [
      "Number of training examples = 34799\n",
      "Number of validation examples = 4410\n",
      "Number of testing examples = 12630\n",
      "Image data shape = (32, 32, 3)\n"
     ]
    }
   ],
   "source": [
    "# Number of training examples\n",
    "n_train = X_train.shape[0]\n",
    "\n",
    "# Number of validation examples\n",
    "n_validation = X_valid.shape[0]\n",
    "\n",
    "# Number of testing examples.\n",
    "n_test = X_test.shape[0]\n",
    "\n",
    "# The shape of an traffic sign image\n",
    "image_shape = X_train.shape[1:4]\n",
    "\n",
    "print(\"Number of training examples =\", n_train)\n",
    "print(\"Number of validation examples =\", n_validation)\n",
    "print(\"Number of testing examples =\", n_test)\n",
    "print(\"Image data shape =\", image_shape)"
   ]
  },
  {
   "cell_type": "markdown",
   "metadata": {},
   "source": [
    "### Pre-Processing: \n",
    "\n",
    "### Grayscaling"
   ]
  },
  {
   "cell_type": "code",
   "execution_count": 4,
   "metadata": {},
   "outputs": [
    {
     "name": "stdout",
     "output_type": "stream",
     "text": [
      "(34799, 32, 32)\n",
      "(4410, 32, 32)\n",
      "(12630, 32, 32)\n"
     ]
    }
   ],
   "source": [
    "from skimage import color\n",
    "from sklearn.utils import shuffle\n",
    "\n",
    "# Grayscaling\n",
    "\n",
    "X_train = np.asarray([color.rgb2gray(X_train[i]) for i in range(n_train)])\n",
    "X_valid = np.asarray([color.rgb2gray(X_valid[i]) for i in range(n_validation)])\n",
    "X_test = np.asarray([color.rgb2gray(X_test[i]) for i in range(n_test)])\n",
    "\n",
    "# Verifying no. of samples after Grayscaling\n",
    "print(X_train.shape)\n",
    "print(X_valid.shape)\n",
    "print(X_test.shape)"
   ]
  },
  {
   "cell_type": "markdown",
   "metadata": {},
   "source": [
    "### Normalizing training, testing and validation data\n",
    "#### Minimally, the image data should be normalized so that the data has mean zero and equal variance."
   ]
  },
  {
   "cell_type": "code",
   "execution_count": 5,
   "metadata": {},
   "outputs": [],
   "source": [
    "X_train = ((X_train-0.5)/0.5)\n",
    "X_valid = ((X_valid-0.5)/0.5)\n",
    "X_test = ((X_test-0.5)/0.5)"
   ]
  },
  {
   "cell_type": "code",
   "execution_count": 6,
   "metadata": {},
   "outputs": [
    {
     "name": "stdout",
     "output_type": "stream",
     "text": [
      "43\n"
     ]
    }
   ],
   "source": [
    "# Total no. of classes\n",
    "\n",
    "n_classes = y_train_nh.max()+1\n",
    "print(n_classes)"
   ]
  },
  {
   "cell_type": "markdown",
   "metadata": {},
   "source": [
    "### Exploratory visualization of the dataset"
   ]
  },
  {
   "cell_type": "markdown",
   "metadata": {},
   "source": [
    "Visualize the German Traffic Signs Dataset using the pickled file(s). This is open ended, suggestions include: plotting traffic sign images, plotting the count of each sign, etc. \n",
    "\n",
    "The [Matplotlib](http://matplotlib.org/) [examples](http://matplotlib.org/examples/index.html) and [gallery](http://matplotlib.org/gallery.html) pages are a great resource for doing visualizations in Python."
   ]
  },
  {
   "cell_type": "code",
   "execution_count": 7,
   "metadata": {},
   "outputs": [
    {
     "name": "stdout",
     "output_type": "stream",
     "text": [
      "Mean: 809.279069767\n"
     ]
    },
    {
     "data": {
      "image/png": "[encoded data removed]",
      "text/plain": [
       "<Figure size 432x288 with 1 Axes>"
      ]
     },
     "metadata": {},
     "output_type": "display_data"
    }
   ],
   "source": [
    "# histogram of label frequency\n",
    "hist, bins = np.histogram(y_train_nh, bins=n_classes)\n",
    "width = 0.7 * (bins[1] - bins[0])\n",
    "center = (bins[:-1] + bins[1:]) / 2\n",
    "print('Mean:',np.mean(hist))\n",
    "plt.bar(center, hist, align='center', width=width)\n",
    "plt.show()"
   ]
  },
  {
   "cell_type": "markdown",
   "metadata": {},
   "source": [
    "### Random samples added to underepresented classes"
   ]
  },
  {
   "cell_type": "code",
   "execution_count": 8,
   "metadata": {},
   "outputs": [],
   "source": [
    "# improving training data\n",
    "import os.path\n",
    "if os.path.isfile(\"Training_data_label.npz\"):\n",
    "    training_x_y = np.load(\"Training_data_label.npz\")\n",
    "    X_train = training_x_y['X_train']\n",
    "    y_train_nh = training_x_y['y_train_nh']\n",
    "else:\n",
    "    average_samples = 800\n",
    "    for class_i in range(n_classes):\n",
    "        class_indices = np.where(y_train_nh==class_i)[0]\n",
    "        n_samples = len(class_indices)\n",
    "        if n_samples <= average_samples:\n",
    "            for i in range(average_samples-n_samples):\n",
    "                print(class_i, i*100/(average_samples-n_samples), end='\\r', flush=True)\n",
    "                new_img = X_train[class_indices[i%n_samples]]\n",
    "                X_train = np.append(X_train, [new_img], axis=0)\n",
    "                y_train_nh = np.hstack([y_train_nh, class_i])\n",
    "    print(\"Completed...\")\n",
    "    np.savez(\"Training_data_label.npz\", X_train=X_train, y_train_nh=y_train_nh)"
   ]
  },
  {
   "cell_type": "markdown",
   "metadata": {},
   "source": [
    "### Hot-Encoding"
   ]
  },
  {
   "cell_type": "code",
   "execution_count": 9,
   "metadata": {},
   "outputs": [],
   "source": [
    "def encoder(data):\n",
    "    n_data = data.shape[0]\n",
    "    n_classes = len(list(range(data.min(), data.max()+1)))\n",
    "    output = np.zeros((n_data, n_classes))\n",
    "    for i in range(0, n_data):\n",
    "        output[i][data[i]] = 1\n",
    "    return output"
   ]
  },
  {
   "cell_type": "code",
   "execution_count": 10,
   "metadata": {},
   "outputs": [],
   "source": [
    "y_train = encoder(y_train_nh)\n",
    "y_valid = encoder(y_valid_nh)\n",
    "y_test = encoder(y_test_nh)"
   ]
  },
  {
   "cell_type": "code",
   "execution_count": 11,
   "metadata": {},
   "outputs": [
    {
     "name": "stdout",
     "output_type": "stream",
     "text": [
      "Number of training examples = 46480\n",
      "Number of classes =  43\n"
     ]
    }
   ],
   "source": [
    "# Number of training examples\n",
    "n_train = X_train.shape[0]\n",
    "# How many unique classes/labels there are in the dataset.\n",
    "n_classes = y_train[0].shape[0]\n",
    "print(\"Number of training examples =\", n_train)\n",
    "print(\"Number of classes = \", n_classes)"
   ]
  },
  {
   "cell_type": "markdown",
   "metadata": {},
   "source": [
    "### Exploratory visualization of the modified dataset"
   ]
  },
  {
   "cell_type": "markdown",
   "metadata": {},
   "source": [
    "### A histogram showing the Training dataset after the classes which were underrepresented with less samples where added with randomised samples, so that those classes dont fall behind while training."
   ]
  },
  {
   "cell_type": "code",
   "execution_count": 12,
   "metadata": {},
   "outputs": [
    {
     "name": "stdout",
     "output_type": "stream",
     "text": [
      "1080.93023256\n"
     ]
    },
    {
     "data": {
      "image/png": "[encoded data removed]",
      "text/plain": [
       "<Figure size 432x288 with 1 Axes>"
      ]
     },
     "metadata": {},
     "output_type": "display_data"
    }
   ],
   "source": [
    "y_training_hist = np.sum(y_train, axis=0)\n",
    "plt.bar(np.arange(0,43),y_training_hist)\n",
    "# print(y_training_hist)\n",
    "print(np.mean(y_training_hist))"
   ]
  },
  {
   "cell_type": "markdown",
   "metadata": {},
   "source": [
    "----\n",
    "\n",
    "## Step 2: Design and Test a Model Architecture\n",
    "\n",
    "Design and implement a deep learning model that learns to recognize traffic signs. Train and test your model on the [German Traffic Sign Dataset](http://benchmark.ini.rub.de/?section=gtsrb&subsection=dataset)."
   ]
  },
  {
   "cell_type": "markdown",
   "metadata": {},
   "source": [
    "### Model Architecture\n",
    "\n",
    "#### LeNet-5: "
   ]
  },
  {
   "cell_type": "code",
   "execution_count": 13,
   "metadata": {},
   "outputs": [],
   "source": [
    "from tensorflow.contrib.layers import flatten\n",
    "import tensorflow as tf\n",
    "\n",
    "def LeNet(x):\n",
    "    # Arguments used for tf.truncated_normal, randomly defines variables for the weights and biases for each layer\n",
    "    mu = 0\n",
    "    sigma = 0.5\n",
    "    \n",
    "    # SOLUTION: Layer 1: Convolutional. Input = 32x32x1. Output = 28x28x6.\n",
    "    conv1_W = tf.Variable(tf.truncated_normal(shape=(5, 5, 1, 6), mean = mu, stddev = sigma))\n",
    "    conv1_b = tf.Variable(tf.zeros(6))\n",
    "    conv1   = tf.nn.conv2d(x, conv1_W, strides=[1, 1, 1, 1], padding='VALID') + conv1_b\n",
    "\n",
    "    # SOLUTION: Activation.\n",
    "    conv1 = tf.nn.relu(conv1)\n",
    "\n",
    "    # SOLUTION: Pooling. Input = 28x28x6. Output = 14x14x6.\n",
    "    conv1 = tf.nn.max_pool(conv1, ksize=[1, 2, 2, 1], strides=[1, 2, 2, 1], padding='VALID')\n",
    "\n",
    "    # SOLUTION: Layer 2: Convolutional. Output = 10x10x16.\n",
    "    conv2_W = tf.Variable(tf.truncated_normal(shape=(5, 5, 6, 16), mean = mu, stddev = sigma))\n",
    "    conv2_b = tf.Variable(tf.zeros(16))\n",
    "    conv2   = tf.nn.conv2d(conv1, conv2_W, strides=[1, 1, 1, 1], padding='VALID') + conv2_b\n",
    "    \n",
    "    # SOLUTION: Activation.\n",
    "    conv2 = tf.nn.relu(conv2)\n",
    "\n",
    "    # SOLUTION: Pooling. Input = 10x10x16. Output = 5x5x16.\n",
    "    conv2 = tf.nn.max_pool(conv2, ksize=[1, 2, 2, 1], strides=[1, 2, 2, 1], padding='VALID')\n",
    "\n",
    "    # SOLUTION: Flatten. Input = 5x5x16. Output = 400.\n",
    "    fc0   = flatten(conv2)\n",
    "    \n",
    "    # SOLUTION: Layer 3: Fully Connected. Input = 400. Output = 120.\n",
    "    fc1_W = tf.Variable(tf.truncated_normal(shape=(400, 120), mean = mu, stddev = sigma))\n",
    "    fc1_b = tf.Variable(tf.zeros(120))\n",
    "    fc1   = tf.matmul(fc0, fc1_W) + fc1_b\n",
    "    \n",
    "    # SOLUTION: Activation.\n",
    "    fc1    = tf.nn.relu(fc1)\n",
    "\n",
    "    # SOLUTION: Layer 4: Fully Connected. Input = 120. Output = 84.\n",
    "    fc2_W  = tf.Variable(tf.truncated_normal(shape=(120, 84), mean = mu, stddev = sigma))\n",
    "    fc2_b  = tf.Variable(tf.zeros(84))\n",
    "    fc2    = tf.matmul(fc1, fc2_W) + fc2_b\n",
    "    \n",
    "    # SOLUTION: Activation.\n",
    "    fc2    = tf.nn.relu(fc2)\n",
    "\n",
    "    # SOLUTION: Layer 5: Fully Connected. Input = 84. Output = 43.\n",
    "    fc3_W  = tf.Variable(tf.truncated_normal(shape=(84, 43), mean = mu, stddev = sigma))\n",
    "    fc3_b  = tf.Variable(tf.zeros(43))\n",
    "    logits = tf.matmul(fc2, fc3_W) + fc3_b\n",
    "    \n",
    "    return logits"
   ]
  },
  {
   "cell_type": "markdown",
   "metadata": {},
   "source": [
    "#### Model used for the project : Net"
   ]
  },
  {
   "cell_type": "code",
   "execution_count": 14,
   "metadata": {},
   "outputs": [],
   "source": [
    "def Net(x,lf1 = 8,lf2 = 16,lf3 = 32, lf4 = 32):    \n",
    "    # Arguments used for tf.truncated_normal, randomly defines variables for the weights and biases for each layer\n",
    "    mu = 0\n",
    "    sigma = 0.1\n",
    "\n",
    "    # Reshape from 2D to 4D. This prepares the data for convolutional and pooling layers.\n",
    "    \n",
    "    # Layer 1: Convolutional. Input = 32x32x1. Output = 28x28x8.\n",
    "    W_C1=tf.Variable(tf.truncated_normal((5,5,1,lf1),mu,sigma))\n",
    "    B_C1=tf.Variable(tf.zeros(lf1,1))\n",
    "    C1=tf.nn.conv2d(x,W_C1,[1,1,1,1],'VALID')+B_C1\n",
    "    \n",
    "    AC1=tf.nn.relu(C1)\n",
    "    \n",
    "    # Layer 2: Input = 28x28x8. Output = 24x24x16.\n",
    "    W_C2=tf.Variable(tf.truncated_normal((5,5,lf1,lf2),mu,sigma))\n",
    "    B_C2=tf.Variable(tf.zeros(lf2,1))\n",
    "    C2=tf.nn.conv2d(AC1,W_C2,[1,1,1,1],'VALID')+B_C2\n",
    "    AC2=tf.nn.relu(C2)\n",
    "    \n",
    "    # Input = 24x24x16. Output = 12x12x16\n",
    "    P1=tf.nn.max_pool(AC2,[1,2,2,1],[1,2,2,1],'VALID')\n",
    "    \n",
    "    DROP1=tf.nn.dropout(P1,keep_prob = 0.8)\n",
    "    \n",
    "    # Layer 3: Input = 12x12x16. Output = 10x10x32.\n",
    "    W_C3=tf.Variable(tf.truncated_normal((3,3,lf2,lf3),mu,sigma))\n",
    "    B_C3=tf.Variable(tf.zeros(lf3,1))\n",
    "    C3=tf.nn.conv2d(DROP1,W_C3,[1,1,1,1],'VALID')+B_C3\n",
    "    # Activation.\n",
    "    AC3=tf.nn.relu(C3)\n",
    "    \n",
    "    # Layer 4: Input = 10x10x32. Output = 8x8x32.\n",
    "    W_C4=tf.Variable(tf.truncated_normal((3,3,lf3,lf4),mu,sigma))\n",
    "    B_C4=tf.Variable(tf.zeros(lf4,1))\n",
    "    C4=tf.nn.conv2d(AC3,W_C4,[1,1,1,1],'VALID')+B_C4\n",
    "    # Activation.\n",
    "    AC4=tf.nn.relu(C4)\n",
    "    \n",
    "    # Input = 8x8x32. Output = 4x4x32\n",
    "    P2=tf.nn.max_pool(AC4,[1,2,2,1],[1,2,2,1],'VALID')\n",
    "\n",
    "    # Flatten. Input = 4x4x32. Output = 512.\n",
    "    FL = tf.contrib.layers.flatten(P2,[1,4*4*lf4])\n",
    "\n",
    "    # Fully connected Layer 1: Input = 512. Output = 120\n",
    "    W_FC1=tf.Variable(tf.truncated_normal((4*4*lf4,120),mu,sigma))\n",
    "    B_FC1=tf.Variable(tf.zeros(120,1))\n",
    "    FC1 = (tf.matmul(FL,W_FC1)+B_FC1)\n",
    "    # Activation.\n",
    "    AC4=tf.nn.relu(FC1)\n",
    "\n",
    "    DROP3=tf.nn.dropout(AC4,keep_prob = 0.5)\n",
    "    \n",
    "    # Fully connected Layer 2 : Input = 120. Output = 84.\n",
    "    W_FC2=tf.Variable(tf.truncated_normal((120,84),mu,sigma))\n",
    "    B_FC2=tf.Variable(tf.zeros(84,1))\n",
    "    FC2 = (tf.matmul(DROP3,W_FC2)+B_FC2)\n",
    "    # Activation.\n",
    "    AC5=tf.nn.relu(FC2)\n",
    "    \n",
    "    # Fully Connected Layer 3 : Input = 84. Output = 43.\n",
    "    W_FC3=tf.Variable(tf.truncated_normal((84,43),mu,sigma))\n",
    "    B_FC3=tf.Variable(tf.zeros(43,1))\n",
    "    FC3 = (tf.matmul(AC5,W_FC3)+B_FC3)\n",
    "    \n",
    "    logits=FC3\n",
    "    \n",
    "    return logits\n"
   ]
  },
  {
   "cell_type": "markdown",
   "metadata": {},
   "source": [
    "### Setting Epochs and Batch size"
   ]
  },
  {
   "cell_type": "code",
   "execution_count": 15,
   "metadata": {},
   "outputs": [],
   "source": [
    "x = tf.placeholder(tf.float32, (None, 32, 32, 1))\n",
    "y = tf.placeholder(tf.int32, (None, n_classes))\n",
    "\n",
    "\n",
    "EPOCHS = 15\n",
    "BATCH_SIZE = 128"
   ]
  },
  {
   "cell_type": "markdown",
   "metadata": {},
   "source": [
    "### Train, Validate and Test the Model"
   ]
  },
  {
   "cell_type": "markdown",
   "metadata": {},
   "source": [
    "A validation set can be used to assess how well the model is performing. A low accuracy on the training and validation\n",
    "sets imply underfitting. A high accuracy on the training set but low accuracy on the validation set implies overfitting."
   ]
  },
  {
   "cell_type": "code",
   "execution_count": 16,
   "metadata": {},
   "outputs": [],
   "source": [
    "### Training model here.\n",
    "\n",
    "rate = 0.001\n",
    "\n",
    "logits = Net(x)\n",
    "cross_entropy = tf.nn.softmax_cross_entropy_with_logits(labels=y, logits=logits)\n",
    "loss_operation = tf.reduce_mean(cross_entropy)\n",
    "optimizer = tf.train.AdamOptimizer(learning_rate = rate)\n",
    "training_operation = optimizer.minimize(loss_operation)"
   ]
  },
  {
   "cell_type": "code",
   "execution_count": 17,
   "metadata": {},
   "outputs": [],
   "source": [
    "### Calculate and report the accuracy on the training and validation set.\n",
    "\n",
    "correct_prediction = tf.equal(tf.argmax(logits, 1), tf.argmax(y, 1))\n",
    "accuracy_operation = tf.reduce_mean(tf.cast(correct_prediction, tf.float32))\n",
    "saver = tf.train.Saver()\n",
    "\n",
    "def evaluate(X_data, y_data):\n",
    "    num_examples = len(X_data)\n",
    "    total_accuracy = 0\n",
    "    sess = tf.get_default_session()\n",
    "    for offset in range(0, num_examples, BATCH_SIZE):\n",
    "        batch_x, batch_y = X_data[offset:offset+BATCH_SIZE], y_data[offset:offset+BATCH_SIZE]\n",
    "        n = batch_x.shape[0]\n",
    "        batch_x = batch_x.reshape(n,32,32,1)\n",
    "        accuracy = sess.run(accuracy_operation, feed_dict={x: batch_x, y: batch_y})\n",
    "        total_accuracy += (accuracy * len(batch_x))\n",
    "    return total_accuracy / num_examples"
   ]
  },
  {
   "cell_type": "markdown",
   "metadata": {},
   "source": [
    "### Validation set Accuracy and A plot of accuracy saturation"
   ]
  },
  {
   "cell_type": "code",
   "execution_count": 18,
   "metadata": {
    "scrolled": true
   },
   "outputs": [
    {
     "name": "stdout",
     "output_type": "stream",
     "text": [
      "Training...\n",
      "\n",
      "EPOCH 1 ...\n",
      "Training Accuracy: 0.80\n",
      "Validation Accuracy = 0.764\n",
      "EPOCH 2 ...\n",
      "Training Accuracy: 0.89\n",
      "Validation Accuracy = 0.854\n",
      "EPOCH 3 ...\n",
      "Training Accuracy: 0.92\n",
      "Validation Accuracy = 0.883\n",
      "EPOCH 4 ...\n",
      "Training Accuracy: 0.94\n",
      "Validation Accuracy = 0.897\n",
      "EPOCH 5 ...\n",
      "Training Accuracy: 0.95\n",
      "Validation Accuracy = 0.902\n",
      "EPOCH 6 ...\n",
      "Training Accuracy: 0.96\n",
      "Validation Accuracy = 0.922\n",
      "EPOCH 7 ...\n",
      "Training Accuracy: 0.96\n",
      "Validation Accuracy = 0.930\n",
      "EPOCH 8 ...\n",
      "Training Accuracy: 0.97\n",
      "Validation Accuracy = 0.932\n",
      "EPOCH 9 ...\n",
      "Training Accuracy: 0.97\n",
      "Validation Accuracy = 0.943\n",
      "EPOCH 10 ...\n",
      "Training Accuracy: 0.97\n",
      "Validation Accuracy = 0.935\n",
      "EPOCH 11 ...\n",
      "Training Accuracy: 0.98\n",
      "Validation Accuracy = 0.941\n",
      "EPOCH 12 ...\n",
      "Training Accuracy: 0.98\n",
      "Validation Accuracy = 0.944\n",
      "EPOCH 13 ...\n",
      "Training Accuracy: 0.98\n",
      "Validation Accuracy = 0.952\n",
      "EPOCH 14 ...\n",
      "Training Accuracy: 0.98\n",
      "Validation Accuracy = 0.955\n",
      "EPOCH 15 ...\n",
      "Training Accuracy: 0.98\n",
      "Validation Accuracy = 0.953\n",
      "Model saved!\n"
     ]
    },
    {
     "data": {
      "image/png": "[encoded data removed]",
      "text/plain": [
       "<Figure size 432x288 with 1 Axes>"
      ]
     },
     "metadata": {},
     "output_type": "display_data"
    }
   ],
   "source": [
    "validation_accuracy = []\n",
    "with tf.Session() as sess:\n",
    "    sess.run(tf.global_variables_initializer())\n",
    "    num_examples = len(X_train)\n",
    "    \n",
    "    print(\"Training...\")\n",
    "    print()\n",
    "    for i in range(EPOCHS):\n",
    "        X_train, y_train = shuffle(X_train, y_train)\n",
    "        for offset in range(0, num_examples, BATCH_SIZE):\n",
    "            end = offset + BATCH_SIZE\n",
    "            batch_x, batch_y = X_train[offset:end], y_train[offset:end]\n",
    "            n = batch_x.shape[0]\n",
    "            batch_x = batch_x.reshape(n,32,32,1)\n",
    "            sess.run(training_operation, feed_dict={x: batch_x, y: batch_y})\n",
    "            \n",
    "            \n",
    "        validation_accuracy.append(evaluate(X_valid, y_valid))\n",
    "        print(\"EPOCH {} ...\".format(i+1))\n",
    "        print('Training Accuracy: {:.2f}'.format(evaluate(X_train,y_train)))\n",
    "        print(\"Validation Accuracy = {:.3f}\".format(validation_accuracy[i]))\n",
    "    saver.save(sess, './lenet')\n",
    "    print(\"Model saved!\")\n",
    "\n",
    "plt.plot(np.arange(EPOCHS), validation_accuracy)\n",
    "plt.show()"
   ]
  },
  {
   "cell_type": "markdown",
   "metadata": {},
   "source": [
    "### Test-set accuracy"
   ]
  },
  {
   "cell_type": "code",
   "execution_count": 19,
   "metadata": {},
   "outputs": [
    {
     "name": "stdout",
     "output_type": "stream",
     "text": [
      "INFO:tensorflow:Restoring parameters from ./lenet\n",
      "Test Accuracy = 0.928\n"
     ]
    }
   ],
   "source": [
    "with tf.Session() as sess:\n",
    "    saver.restore(sess, tf.train.latest_checkpoint('.'))\n",
    "    Test_accuracy = evaluate(X_test, y_test)\n",
    "    print(\"Test Accuracy = {:.3f}\".format(Test_accuracy))"
   ]
  },
  {
   "cell_type": "markdown",
   "metadata": {},
   "source": [
    "---\n",
    "\n",
    "## Step 3: Test a Model on New Images\n",
    "\n",
    "To give yourself more insight into how your model is working, download at least five pictures of German traffic signs from the web and use your model to predict the traffic sign type.\n",
    "\n",
    "You may find `signnames.csv` useful as it contains mappings from the class id (integer) to the actual sign name."
   ]
  },
  {
   "cell_type": "markdown",
   "metadata": {},
   "source": [
    "### Load and Output the Images"
   ]
  },
  {
   "cell_type": "code",
   "execution_count": 20,
   "metadata": {},
   "outputs": [
    {
     "data": {
      "image/png": "[encoded data removed]",
      "text/plain": [
       "<Figure size 432x288 with 1 Axes>"
      ]
     },
     "metadata": {},
     "output_type": "display_data"
    },
    {
     "data": {
      "image/png": "[encoded data removed]",
      "text/plain": [
       "<Figure size 432x288 with 1 Axes>"
      ]
     },
     "metadata": {},
     "output_type": "display_data"
    },
    {
     "data": {
      "image/png": "[encoded data removed]",
      "text/plain": [
       "<Figure size 432x288 with 1 Axes>"
      ]
     },
     "metadata": {},
     "output_type": "display_data"
    },
    {
     "data": {
      "image/png": "[encoded data removed]",
      "text/plain": [
       "<Figure size 432x288 with 1 Axes>"
      ]
     },
     "metadata": {},
     "output_type": "display_data"
    },
    {
     "data": {
      "image/png": "[encoded data removed]",
      "text/plain": [
       "<Figure size 432x288 with 1 Axes>"
      ]
     },
     "metadata": {},
     "output_type": "display_data"
    }
   ],
   "source": [
    "import glob\n",
    "\n",
    "images = [cv2.resize(cv2.cvtColor(cv2.imread(path), cv2.COLOR_BGR2RGB), (32,32)) for path in glob.glob('images/*.jpg')]\n",
    "test_images=np.asarray([(color.rgb2gray(cv2.resize(cv2.imread(path), (32,32)))-0.5)/0.5 for path in glob.glob('images/*.jpg')]).astype(\"float32\")\n",
    "test_images = test_images.reshape(5,32,32,1)\n",
    "for i in range(len(images)):\n",
    "    plt.figure()\n",
    "    plt.imshow(images[i])"
   ]
  },
  {
   "cell_type": "markdown",
   "metadata": {},
   "source": [
    "### Predict the Sign Type for Each Image"
   ]
  },
  {
   "cell_type": "code",
   "execution_count": 21,
   "metadata": {},
   "outputs": [
    {
     "name": "stdout",
     "output_type": "stream",
     "text": [
      "    ClassId                                           SignName\n",
      "0         0                               Speed limit (20km/h)\n",
      "1         1                               Speed limit (30km/h)\n",
      "2         2                               Speed limit (50km/h)\n",
      "3         3                               Speed limit (60km/h)\n",
      "4         4                               Speed limit (70km/h)\n",
      "5         5                               Speed limit (80km/h)\n",
      "6         6                        End of speed limit (80km/h)\n",
      "7         7                              Speed limit (100km/h)\n",
      "8         8                              Speed limit (120km/h)\n",
      "9         9                                         No passing\n",
      "10       10       No passing for vehicles over 3.5 metric tons\n",
      "11       11              Right-of-way at the next intersection\n",
      "12       12                                      Priority road\n",
      "13       13                                              Yield\n",
      "14       14                                               Stop\n",
      "15       15                                        No vehicles\n",
      "16       16           Vehicles over 3.5 metric tons prohibited\n",
      "17       17                                           No entry\n",
      "18       18                                    General caution\n",
      "19       19                        Dangerous curve to the left\n",
      "20       20                       Dangerous curve to the right\n",
      "21       21                                       Double curve\n",
      "22       22                                         Bumpy road\n",
      "23       23                                      Slippery road\n",
      "24       24                          Road narrows on the right\n",
      "25       25                                          Road work\n",
      "26       26                                    Traffic signals\n",
      "27       27                                        Pedestrians\n",
      "28       28                                  Children crossing\n",
      "29       29                                  Bicycles crossing\n",
      "30       30                                 Beware of ice/snow\n",
      "31       31                              Wild animals crossing\n",
      "32       32                End of all speed and passing limits\n",
      "33       33                                   Turn right ahead\n",
      "34       34                                    Turn left ahead\n",
      "35       35                                         Ahead only\n",
      "36       36                               Go straight or right\n",
      "37       37                                Go straight or left\n",
      "38       38                                         Keep right\n",
      "39       39                                          Keep left\n",
      "40       40                               Roundabout mandatory\n",
      "41       41                                  End of no passing\n",
      "42       42  End of no passing by vehicles over 3.5 metric ...\n"
     ]
    }
   ],
   "source": [
    "import pandas as pd\n",
    "signnames = pd.read_csv(\"signnames.csv\")\n",
    "print(signnames)"
   ]
  },
  {
   "cell_type": "code",
   "execution_count": 22,
   "metadata": {
    "scrolled": true
   },
   "outputs": [
    {
     "name": "stdout",
     "output_type": "stream",
     "text": [
      "INFO:tensorflow:Restoring parameters from ./lenet\n",
      "4      Speed limit (70km/h)\n",
      "23            Slippery road\n",
      "1      Speed limit (30km/h)\n",
      "2      Speed limit (50km/h)\n",
      "31    Wild animals crossing\n",
      "Name: SignName, dtype: object\n"
     ]
    }
   ],
   "source": [
    "### Run the predictions here and use the model to output the prediction for each image.\n",
    "### Same trained model used here\n",
    "\n",
    "with tf.Session() as sess:\n",
    "    saver.restore(sess, tf.train.latest_checkpoint('.'))\n",
    "    prediction = sess.run(logits, feed_dict={x:test_images})\n",
    "    print(signnames[\"SignName\"][np.argmax(prediction, axis=1)])\n",
    "    predicted_array = np.argmax(prediction, axis=1)"
   ]
  },
  {
   "cell_type": "markdown",
   "metadata": {},
   "source": [
    "### Softmax Probabiltity Calculation"
   ]
  },
  {
   "cell_type": "code",
   "execution_count": 23,
   "metadata": {},
   "outputs": [],
   "source": [
    "prediction_probability = np.asarray([np.exp(prediction[i])/np.sum(np.exp(prediction[i])) for i in range(prediction.shape[0])])"
   ]
  },
  {
   "cell_type": "markdown",
   "metadata": {},
   "source": [
    "### Analyze Performance"
   ]
  },
  {
   "cell_type": "code",
   "execution_count": 24,
   "metadata": {},
   "outputs": [
    {
     "name": "stdout",
     "output_type": "stream",
     "text": [
      "Accuracy in prediction of 5 web images: 60.0 %.\n"
     ]
    }
   ],
   "source": [
    "### Calculate the accuracy for these 5 new images. \n",
    "web_images_label_ID = [4, 21, 14, 2, 31]\n",
    "correct_pred = len(predicted_array[predicted_array==web_images_label_ID])\n",
    "Accuracy_in_web_prediction = correct_pred/len(web_images_label_ID)*100\n",
    "print(\"Accuracy in prediction of 5 web images: {} %.\".format(Accuracy_in_web_prediction))"
   ]
  },
  {
   "cell_type": "markdown",
   "metadata": {},
   "source": [
    "### Output Top 5 Softmax Probabilities For Each Image Found on the Web"
   ]
  },
  {
   "cell_type": "markdown",
   "metadata": {},
   "source": [
    "For each of the new images, print out the model's softmax probabilities to show the **certainty** of the model's predictions (limit the output to the top 5 probabilities for each image). [`tf.nn.top_k`](https://www.tensorflow.org/versions/r0.12/api_docs/python/nn.html#top_k) could prove helpful here. \n",
    "\n",
    "The example below demonstrates how tf.nn.top_k can be used to find the top k predictions for each image.\n",
    "\n",
    "`tf.nn.top_k` will return the values and indices (class ids) of the top k predictions. So if k=3, for each sign, it'll return the 3 largest probabilities (out of a possible 43) and the correspoding class ids.\n",
    "\n",
    "Take this numpy array as an example. The values in the array represent predictions. The array contains softmax probabilities for five candidate images with six possible classes. `tf.nn.top_k` is used to choose the three classes with the highest probability:\n",
    "\n",
    "```\n",
    "# (5, 6) array\n",
    "a = np.array([[ 0.24879643,  0.07032244,  0.12641572,  0.34763842,  0.07893497,\n",
    "         0.12789202],\n",
    "       [ 0.28086119,  0.27569815,  0.08594638,  0.0178669 ,  0.18063401,\n",
    "         0.15899337],\n",
    "       [ 0.26076848,  0.23664738,  0.08020603,  0.07001922,  0.1134371 ,\n",
    "         0.23892179],\n",
    "       [ 0.11943333,  0.29198961,  0.02605103,  0.26234032,  0.1351348 ,\n",
    "         0.16505091],\n",
    "       [ 0.09561176,  0.34396535,  0.0643941 ,  0.16240774,  0.24206137,\n",
    "         0.09155967]])\n",
    "```\n",
    "\n",
    "Running it through `sess.run(tf.nn.top_k(tf.constant(a), k=3))` produces:\n",
    "\n",
    "```\n",
    "TopKV2(values=array([[ 0.34763842,  0.24879643,  0.12789202],\n",
    "       [ 0.28086119,  0.27569815,  0.18063401],\n",
    "       [ 0.26076848,  0.23892179,  0.23664738],\n",
    "       [ 0.29198961,  0.26234032,  0.16505091],\n",
    "       [ 0.34396535,  0.24206137,  0.16240774]]), indices=array([[3, 0, 5],\n",
    "       [0, 1, 4],\n",
    "       [0, 5, 1],\n",
    "       [1, 3, 5],\n",
    "       [1, 4, 3]], dtype=int32))\n",
    "```\n",
    "\n",
    "Looking just at the first row we get `[ 0.34763842,  0.24879643,  0.12789202]`, you can confirm these are the 3 largest probabilities in `a`. You'll also notice `[3, 0, 5]` are the corresponding indices."
   ]
  },
  {
   "cell_type": "code",
   "execution_count": 25,
   "metadata": {
    "scrolled": true
   },
   "outputs": [
    {
     "name": "stdout",
     "output_type": "stream",
     "text": [
      "The Top 5 most probable predictions are :\n",
      "[[ 4  1 39 26  0]\n",
      " [23 30 24 19 11]\n",
      " [ 1  2 13 25  4]\n",
      " [ 2  3 13  5  1]\n",
      " [31 37  2 21  1]]\n",
      " \n",
      "Top five softmax probabilities of the predictions are :\n",
      "[[  9.99899983e-01   9.99999975e-05   0.00000000e+00   0.00000000e+00\n",
      "    0.00000000e+00]\n",
      " [  1.00000000e+00   0.00000000e+00   0.00000000e+00   0.00000000e+00\n",
      "    0.00000000e+00]\n",
      " [  8.47999990e-01   8.48999992e-02   3.59000005e-02   2.76999995e-02\n",
      "    2.70000007e-03]\n",
      " [  9.96299982e-01   3.50000011e-03   9.99999975e-05   9.99999975e-05\n",
      "    0.00000000e+00]\n",
      " [  9.92399991e-01   7.19999988e-03   1.99999995e-04   1.99999995e-04\n",
      "    0.00000000e+00]]\n"
     ]
    }
   ],
   "source": [
    "### Print out the top five softmax probabilities for the predictions on the German traffic sign images found on the web. \n",
    "\n",
    "\n",
    "with tf.Session() as sess:\n",
    "    most_probable = sess.run(tf.nn.top_k(tf.constant(prediction_probability), k=5))\n",
    "\n",
    "print(\"The Top 5 most probable predictions are :\")\n",
    "print(most_probable[1])\n",
    "print(\" \")\n",
    "print(\"Top five softmax probabilities of the predictions are :\")\n",
    "print(most_probable[0].round(4))"
   ]
  },
  {
   "cell_type": "markdown",
   "metadata": {},
   "source": [
    "### Project Writeup\n",
    "\n",
    "Once you have completed the code implementation, document your results in a project writeup using this [template](https://github.com/udacity/CarND-Traffic-Sign-Classifier-Project/blob/master/writeup_template.md) as a guide. The writeup can be in a markdown or pdf file. "
   ]
  }
 ],
 "metadata": {
  "anaconda-cloud": {},
  "kernelspec": {
   "display_name": "Python 3",
   "language": "python",
   "name": "python3"
  },
  "language_info": {
   "codemirror_mode": {
    "name": "ipython",
    "version": 3
   },
   "file_extension": ".py",
   "mimetype": "text/x-python",
   "name": "python",
   "nbconvert_exporter": "python",
   "pygments_lexer": "ipython3",
   "version": "3.5.2"
  },
  "widgets": {
   "state": {},
   "version": "1.1.2"
  }
 },
 "nbformat": 4,
 "nbformat_minor": 1
}
